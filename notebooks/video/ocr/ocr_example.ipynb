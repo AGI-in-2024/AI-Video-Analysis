{
 "cells": [
  {
   "metadata": {
    "ExecuteTime": {
     "end_time": "2024-09-24T18:48:35.971941Z",
     "start_time": "2024-09-24T18:48:35.860622Z"
    }
   },
   "cell_type": "code",
   "source": [
    "import os\n",
    "\n",
    "while os.getcwd().split(os.sep)[-1] != \"secret-repo\":\n",
    "    os.chdir(\"..\")\n",
    "    \n",
    "!ls"
   ],
   "id": "c0b465df3a87c676",
   "outputs": [
    {
     "name": "stdout",
     "output_type": "stream",
     "text": [
      " data\t     'loss weight.png'\t README.md   venv\r\n",
      " LICENSE.md   notebooks\t\t src\t     weights\r\n"
     ]
    }
   ],
   "execution_count": 1
  },
  {
   "cell_type": "code",
   "id": "initial_id",
   "metadata": {
    "collapsed": true,
    "ExecuteTime": {
     "end_time": "2024-09-24T18:57:30.007034Z",
     "start_time": "2024-09-24T18:57:09.381681Z"
    }
   },
   "source": [
    "import time\n",
    "from src.ocr import ocr_trocr_ru\n",
    "\n",
    "with open('data/video/test/test_1.mp4', 'rb') as f:\n",
    "    video_binary = f.read()\n",
    "\n",
    "start_time = time.time()\n",
    "recognized_text = ocr_trocr_ru(video_binary, frame_rate=1000)\n",
    "end_time = time.time()\n",
    "\n",
    "for frame_num, text in recognized_text.items():\n",
    "        print(f\"Frame {frame_num}: {text}\")\n",
    "print(f\"Time taken: {end_time - start_time} seconds\")"
   ],
   "outputs": [
    {
     "name": "stdout",
     "output_type": "stream",
     "text": [
      "Frame 0: постановка\n",
      "Frame 1000: -\n",
      "Frame 2000: г\n",
      "Frame 3000: принято\n",
      "Frame 4000: \"ВВ\"\n",
      "Frame 5000: \"О\n",
      "Frame 6000: С\n",
      "Frame 7000: С\n",
      "Frame 8000: О\n",
      "Frame 9000: Е\n",
      "Time taken: 20.60666513442993 seconds\n"
     ]
    }
   ],
   "execution_count": 3
  }
 ],
 "metadata": {
  "kernelspec": {
   "display_name": "Python 3",
   "language": "python",
   "name": "python3"
  },
  "language_info": {
   "codemirror_mode": {
    "name": "ipython",
    "version": 2
   },
   "file_extension": ".py",
   "mimetype": "text/x-python",
   "name": "python",
   "nbconvert_exporter": "python",
   "pygments_lexer": "ipython2",
   "version": "2.7.6"
  }
 },
 "nbformat": 4,
 "nbformat_minor": 5
}
