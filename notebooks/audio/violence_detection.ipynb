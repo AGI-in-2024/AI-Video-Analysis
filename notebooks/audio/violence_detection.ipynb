{
 "cells": [
  {
   "metadata": {},
   "cell_type": "code",
   "outputs": [],
   "execution_count": null,
   "source": "!pip install moviepy",
   "id": "7d9677fc1f5b916f"
  },
  {
   "metadata": {
    "ExecuteTime": {
     "end_time": "2024-09-28T20:39:29.863837Z",
     "start_time": "2024-09-28T20:39:25.351785Z"
    }
   },
   "cell_type": "code",
   "source": [
    "from moviepy.editor import VideoFileClip\n",
    "from transformers import AutoModelForAudioClassification, AutoFeatureExtractor\n",
    "import torchaudio\n",
    "import torch\n",
    "import torch.nn.functional as F\n",
    "\n",
    "def extract_audio_from_video(video_path, audio_path):\n",
    "    \"\"\"\n",
    "    Extract audio from a video file and save it as a WAV file.\n",
    "    \"\"\"\n",
    "    video = VideoFileClip(video_path)\n",
    "    audio = video.audio\n",
    "    audio.write_audiofile(audio_path, codec='pcm_s16le')  # Save as PCM WAV\n",
    "    video.close()\n",
    "\n",
    "def classify_violence_audio_chunks(audio_path, chunk_duration=10, threshold=0.5):\n",
    "    \"\"\"\n",
    "    Classify 10-second chunks of the audio for violence presence based on a threshold.\n",
    "    Returns a dictionary with start time as key and violence labels as value.\n",
    "    \"\"\"\n",
    "    # Load the model and feature extractor for violence detection\n",
    "    # violence_extractor = AutoFeatureExtractor.from_pretrained(\"Hemg/audio-voilence-detection\")\n",
    "    # violence_model = AutoModelForAudioClassification.from_pretrained(\"Hemg/audio-voilence-detection\")\n",
    "    violence_extractor = AutoFeatureExtractor.from_pretrained(\"Hemg/violence-audio-Recognition-666\")\n",
    "    violence_model = AutoModelForAudioClassification.from_pretrained(\"Hemg/violence-audio-Recognition-666\")\n",
    "    \n",
    "    # Load the audio file\n",
    "    audio_input, sample_rate = torchaudio.load(audio_path)\n",
    "    \n",
    "    # Resample if necessary\n",
    "    if sample_rate != 16000:  # Model expects 16kHz\n",
    "        audio_input = torchaudio.transforms.Resample(orig_freq=sample_rate, new_freq=16000)(audio_input)\n",
    "\n",
    "    # Ensure the audio input is mono\n",
    "    if audio_input.shape[0] > 1:\n",
    "        audio_input = audio_input.mean(dim=0, keepdim=True)  # Convert to mono by averaging channels\n",
    "    \n",
    "    # Initialize the results dictionary\n",
    "    results = {}\n",
    "\n",
    "    # Calculate number of chunks\n",
    "    total_length = audio_input.size(1) / 16000  # Total length in seconds\n",
    "    num_chunks = int(total_length // chunk_duration)\n",
    "\n",
    "    for i in range(num_chunks):\n",
    "        start_time = i * chunk_duration\n",
    "        end_time = start_time + chunk_duration\n",
    "\n",
    "        # Extract the chunk\n",
    "        start_sample = int(start_time * 16000)\n",
    "        end_sample = int(end_time * 16000)\n",
    "        audio_chunk = audio_input[:, start_sample:end_sample]\n",
    "\n",
    "        # Classify violence presence\n",
    "        violence_inputs = violence_extractor(audio_chunk.squeeze(0), sampling_rate=16000, return_tensors=\"pt\", padding=True)\n",
    "        with torch.no_grad():\n",
    "            violence_logits = violence_model(**violence_inputs).logits\n",
    "        violence_probs = F.sigmoid(violence_logits)  # Convert logits to probabilities\n",
    "        violence_label = \"violence\" if violence_probs[0][1] >= threshold else \"non_violence\"\n",
    "\n",
    "        # Store the results in the dictionary\n",
    "        results[start_time] = violence_label\n",
    "\n",
    "    return results\n",
    "\n",
    "# Example Usage\n",
    "# video_path = \"/home/pe51k/PycharmProjects/secret-repo/data/video/test/test_0.mp4\"\n",
    "# video_path = \"/home/pe51k/PycharmProjects/secret-repo/data/video/test/Над расследованием по Северным потокам смеется вся Европа. Великий перепост [TubeRipper.com].mp4\"\n",
    "video_path = \"/home/pe51k/PycharmProjects/secret-repo/data/video/test/ПОЛОСА ПРЕПЯТСТВИЙ ДЛЯ КОТА АБРИКОСА - Кусь-шоу Весёлые челленджи [TubeRipper.com].mp4\"\n",
    "audio_path = \"extracted_audio.wav\"\n",
    "\n",
    "# Step 1: Extract audio from video\n",
    "extract_audio_from_video(video_path, audio_path)\n",
    "\n",
    "# Step 2: Classify audio in chunks for violence detection with a threshold (default 0.5)\n",
    "classification_results = classify_violence_audio_chunks(audio_path, threshold=0.7)\n",
    "\n",
    "# Output the classification results\n",
    "print(classification_results)"
   ],
   "id": "77808257d4494d80",
   "outputs": [
    {
     "name": "stdout",
     "output_type": "stream",
     "text": [
      "MoviePy - Writing audio in extracted_audio.wav\n"
     ]
    },
    {
     "name": "stderr",
     "output_type": "stream",
     "text": [
      "                                                                      \r"
     ]
    },
    {
     "name": "stdout",
     "output_type": "stream",
     "text": [
      "MoviePy - Done.\n",
      "{0: 'violence', 10: 'non_violence', 20: 'non_violence', 30: 'non_violence', 40: 'non_violence', 50: 'non_violence', 60: 'non_violence', 70: 'violence', 80: 'non_violence', 90: 'non_violence'}\n"
     ]
    }
   ],
   "execution_count": 6
  }
 ],
 "metadata": {
  "kernelspec": {
   "display_name": "Python 3",
   "language": "python",
   "name": "python3"
  },
  "language_info": {
   "codemirror_mode": {
    "name": "ipython",
    "version": 2
   },
   "file_extension": ".py",
   "mimetype": "text/x-python",
   "name": "python",
   "nbconvert_exporter": "python",
   "pygments_lexer": "ipython2",
   "version": "2.7.6"
  }
 },
 "nbformat": 4,
 "nbformat_minor": 5
}
