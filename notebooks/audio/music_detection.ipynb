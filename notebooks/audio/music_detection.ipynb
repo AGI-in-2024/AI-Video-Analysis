{
 "cells": [
  {
   "metadata": {},
   "cell_type": "code",
   "outputs": [],
   "execution_count": null,
   "source": "!pip install moviepy",
   "id": "7d9677fc1f5b916f"
  },
  {
   "metadata": {
    "ExecuteTime": {
     "end_time": "2024-09-28T19:29:53.116783Z",
     "start_time": "2024-09-28T19:29:50.106236Z"
    }
   },
   "cell_type": "code",
   "source": [
    "from moviepy.editor import VideoFileClip\n",
    "from transformers import AutoModelForAudioClassification, AutoFeatureExtractor\n",
    "import torchaudio\n",
    "import torch\n",
    "\n",
    "def extract_audio_from_video(video_path, audio_path):\n",
    "    \"\"\"\n",
    "    Extract audio from a video file and save it as a WAV file.\n",
    "    \"\"\"\n",
    "    video = VideoFileClip(video_path)\n",
    "    audio = video.audio\n",
    "    audio.write_audiofile(audio_path, codec='pcm_s16le')  # Save as PCM WAV\n",
    "    video.close()\n",
    "\n",
    "def classify_audio_chunks(audio_path, chunk_duration=10):\n",
    "    \"\"\"\n",
    "    Classify 10-second chunks of the audio for music presence.\n",
    "    Returns a dictionary with start time as key and \"music\"/\"non_music\" as value.\n",
    "    \"\"\"\n",
    "    # Load the model and feature extractor\n",
    "    extractor = AutoFeatureExtractor.from_pretrained(\"MarekCech/GenreVim-Music-Detection-DistilHuBERT\")\n",
    "    model = AutoModelForAudioClassification.from_pretrained(\"MarekCech/GenreVim-Music-Detection-DistilHuBERT\")\n",
    "    \n",
    "    # Load the audio file\n",
    "    audio_input, sample_rate = torchaudio.load(audio_path)\n",
    "    \n",
    "    # Resample if necessary\n",
    "    if sample_rate != 16000:  # Model expects 16kHz\n",
    "        audio_input = torchaudio.transforms.Resample(orig_freq=sample_rate, new_freq=16000)(audio_input)\n",
    "\n",
    "    # Ensure the audio input is mono\n",
    "    if audio_input.shape[0] > 1:\n",
    "        audio_input = audio_input.mean(dim=0, keepdim=True)  # Convert to mono by averaging channels\n",
    "    \n",
    "    # Initialize the results dictionary\n",
    "    results = {}\n",
    "\n",
    "    # Calculate number of chunks\n",
    "    total_length = audio_input.size(1) / 16000  # Total length in seconds\n",
    "    num_chunks = int(total_length // chunk_duration)\n",
    "\n",
    "    for i in range(num_chunks):\n",
    "        start_time = i * chunk_duration\n",
    "        end_time = start_time + chunk_duration\n",
    "\n",
    "        # Extract the chunk\n",
    "        start_sample = int(start_time * 16000)\n",
    "        end_sample = int(end_time * 16000)\n",
    "        audio_chunk = audio_input[:, start_sample:end_sample]\n",
    "\n",
    "        # Extract features\n",
    "        inputs = extractor(audio_chunk.squeeze(0), sampling_rate=16000, return_tensors=\"pt\", padding=True)\n",
    "\n",
    "        # Make predictions\n",
    "        with torch.no_grad():\n",
    "            logits = model(**inputs).logits\n",
    "        \n",
    "        # Get the predicted class index\n",
    "        predicted_class = logits.argmax(dim=-1).item()\n",
    "\n",
    "        # Map the predicted class to \"music\" or \"non_music\"\n",
    "        results[start_time] = \"music\" if predicted_class == 1 else \"non_music\"\n",
    "\n",
    "    return results\n",
    "\n",
    "# Example Usage\n",
    "# video_path = \"/home/pe51k/PycharmProjects/secret-repo/data/video/test/test_0.mp4\"\n",
    "# video_path = \"/home/pe51k/PycharmProjects/secret-repo/data/video/test/Над расследованием по Северным потокам смеется вся Европа. Великий перепост [TubeRipper.com].mp4\"\n",
    "video_path = \"/home/pe51k/PycharmProjects/secret-repo/data/video/test/ПОЛОСА ПРЕПЯТСТВИЙ ДЛЯ КОТА АБРИКОСА - Кусь-шоу Весёлые челленджи [TubeRipper.com].mp4\"\n",
    "audio_path = \"extracted_audio.wav\"\n",
    "\n",
    "# Step 1: Extract audio from video\n",
    "extract_audio_from_video(video_path, audio_path)\n",
    "\n",
    "# Step 2: Classify audio in chunks\n",
    "classification_results = classify_audio_chunks(audio_path)\n",
    "\n",
    "# Output the classification results\n",
    "print(classification_results)"
   ],
   "id": "5d802ea75a52032a",
   "outputs": [
    {
     "name": "stdout",
     "output_type": "stream",
     "text": [
      "MoviePy - Writing audio in extracted_audio.wav\n"
     ]
    },
    {
     "name": "stderr",
     "output_type": "stream",
     "text": [
      "                                                                      \r"
     ]
    },
    {
     "name": "stdout",
     "output_type": "stream",
     "text": [
      "MoviePy - Done.\n",
      "{0: 'non_music', 10: 'music', 20: 'music', 30: 'music', 40: 'non_music', 50: 'non_music', 60: 'non_music', 70: 'non_music', 80: 'music', 90: 'non_music'}\n"
     ]
    }
   ],
   "execution_count": 12
  }
 ],
 "metadata": {
  "kernelspec": {
   "display_name": "Python 3",
   "language": "python",
   "name": "python3"
  },
  "language_info": {
   "codemirror_mode": {
    "name": "ipython",
    "version": 2
   },
   "file_extension": ".py",
   "mimetype": "text/x-python",
   "name": "python",
   "nbconvert_exporter": "python",
   "pygments_lexer": "ipython2",
   "version": "2.7.6"
  }
 },
 "nbformat": 4,
 "nbformat_minor": 5
}
