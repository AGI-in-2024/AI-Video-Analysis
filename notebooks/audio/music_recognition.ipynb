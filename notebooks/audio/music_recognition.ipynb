{
 "cells": [
  {
   "metadata": {
    "ExecuteTime": {
     "end_time": "2024-09-28T22:27:45.341764Z",
     "start_time": "2024-09-28T22:27:45.224542Z"
    }
   },
   "cell_type": "code",
   "source": [
    "import os\n",
    "\n",
    "while os.getcwd().split(os.sep)[-1] != \"secret-repo\":\n",
    "    os.chdir(\"..\")\n",
    "    \n",
    "!ls"
   ],
   "id": "7d9677fc1f5b916f",
   "outputs": [
    {
     "name": "stdout",
     "output_type": "stream",
     "text": [
      " abracadabra.log       lib\t\t  notebooks     src\r\n",
      " data\t\t       LICENSE.md\t  README.md     venv\r\n",
      " extracted_audio.wav  'loss weight.png'   settings.py   weights\r\n"
     ]
    }
   ],
   "execution_count": 2
  },
  {
   "metadata": {
    "ExecuteTime": {
     "end_time": "2024-09-28T22:37:57.012903Z",
     "start_time": "2024-09-28T22:37:19.473764Z"
    }
   },
   "cell_type": "code",
   "source": [
    "from moviepy.editor import VideoFileClip\n",
    "from transformers import AutoModelForAudioClassification, AutoFeatureExtractor\n",
    "import torchaudio\n",
    "import torch\n",
    "import os\n",
    "from collections import defaultdict\n",
    "import numpy as np\n",
    "from lib.abracadabra.abracadabra.fingerprint import fingerprint_audio, fingerprint_file\n",
    "\n",
    "\n",
    "def extract_audio_from_video(video_path, audio_path):\n",
    "    \"\"\"\n",
    "    Extract audio from a video file and save it as a WAV file.\n",
    "    \"\"\"\n",
    "    video = VideoFileClip(video_path)\n",
    "    audio = video.audio\n",
    "    audio.write_audiofile(audio_path, codec='pcm_s16le')  # Save as PCM WAV\n",
    "    video.close()\n",
    "\n",
    "def classify_and_match_audio_chunks(audio_path, search_files, chunk_duration=10, threshold=5):\n",
    "    \"\"\"\n",
    "    Classify 10-second chunks of the audio for music presence.\n",
    "    If a chunk contains music, search for matches among the list of audio files.\n",
    "    Returns a dictionary with start time as key and \"match\"/\"no match\" as value.\n",
    "    \"\"\"\n",
    "    # Load the model and feature extractor\n",
    "    extractor = AutoFeatureExtractor.from_pretrained(\"MarekCech/GenreVim-Music-Detection-DistilHuBERT\")\n",
    "    model = AutoModelForAudioClassification.from_pretrained(\"MarekCech/GenreVim-Music-Detection-DistilHuBERT\")\n",
    "    \n",
    "    # Load the audio file\n",
    "    audio_input, sample_rate = torchaudio.load(audio_path)\n",
    "    \n",
    "    # Resample if necessary\n",
    "    if sample_rate != 16000:  # Model expects 16kHz\n",
    "        audio_input = torchaudio.transforms.Resample(orig_freq=sample_rate, new_freq=16000)(audio_input)\n",
    "\n",
    "    # Ensure the audio input is mono\n",
    "    if audio_input.shape[0] > 1:\n",
    "        audio_input = audio_input.mean(dim=0, keepdim=True)  # Convert to mono by averaging channels\n",
    "    \n",
    "    # Initialize the results dictionary\n",
    "    results = {}\n",
    "\n",
    "    # Calculate number of chunks\n",
    "    total_length = audio_input.size(1) / 16000  # Total length in seconds\n",
    "    num_chunks = int(total_length // chunk_duration)\n",
    "\n",
    "    for i in range(num_chunks):\n",
    "        start_time = i * chunk_duration\n",
    "        end_time = start_time + chunk_duration\n",
    "\n",
    "        # Extract the chunk\n",
    "        start_sample = int(start_time * 16000)\n",
    "        end_sample = int(end_time * 16000)\n",
    "        audio_chunk = audio_input[:, start_sample:end_sample]\n",
    "\n",
    "        # Save the chunk to a temporary file\n",
    "        chunk_file = f\"temp_chunk_{i}.wav\"\n",
    "        torchaudio.save(chunk_file, audio_chunk, 16000)\n",
    "\n",
    "        # Extract features for classification\n",
    "        inputs = extractor(audio_chunk.squeeze(0), sampling_rate=16000, return_tensors=\"pt\", padding=True)\n",
    "\n",
    "        # Make predictions\n",
    "        with torch.no_grad():\n",
    "            logits = model(**inputs).logits\n",
    "        \n",
    "        # Get the predicted class index\n",
    "        predicted_class = logits.argmax(dim=-1).item()\n",
    "\n",
    "        # If the chunk contains music, search for matches\n",
    "        if predicted_class == 1:\n",
    "            match_result = compare_files_with_timing(chunk_file, search_files, threshold=threshold)\n",
    "            if match_result:\n",
    "                results[start_time] = f\"match found: {match_result}\"\n",
    "            else:\n",
    "                results[start_time] = \"no match\"\n",
    "        else:\n",
    "            results[start_time] = \"non_music\"\n",
    "\n",
    "        # Optionally remove the chunk file after processing\n",
    "        os.remove(chunk_file)\n",
    "\n",
    "    return results\n",
    "\n",
    "def compare_files_with_timing(target_audio_file, search_files, threshold=5):\n",
    "    \"\"\"\n",
    "    Compare audio chunk file with a list of search files and find the best match.\n",
    "    :param target_audio_file: Path to the target audio chunk file\n",
    "    :param search_files: List of file paths to compare against\n",
    "    :param threshold: Minimum number of hash matches required for a file to be considered a match\n",
    "    :return: The best matching file or None if no match is found\n",
    "    \"\"\"\n",
    "    def score_match(offsets):\n",
    "        \"\"\"Score the match based on time shifts of hashes.\"\"\"\n",
    "        binwidth = 0.5\n",
    "        tks = list(map(lambda x: x[0] - x[1], offsets))  # Calculate time deltas between matches\n",
    "        hist, _ = np.histogram(tks, bins=np.arange(int(min(tks)), int(max(tks)) + binwidth + 1, binwidth))\n",
    "        return np.max(hist) if len(hist) > 0 else 0\n",
    "\n",
    "    def best_match(matches):\n",
    "        \"\"\"Return the file with the highest match score.\"\"\"\n",
    "        matched_file = None\n",
    "        best_score = 0\n",
    "        for search_file, offsets in matches.items():\n",
    "            if len(offsets) < threshold:\n",
    "                continue  # Skip files with insufficient matches\n",
    "            score = score_match(offsets)\n",
    "            if score > best_score:\n",
    "                best_score = score\n",
    "                matched_file = search_file\n",
    "        return matched_file\n",
    "\n",
    "    # Fingerprint the target audio chunk\n",
    "    target_hashes = fingerprint_file(target_audio_file)\n",
    "    target_hash_dict = {h[0]: h[1] for h in target_hashes}  # Hash -> time offset\n",
    "\n",
    "    # Compare with each search file\n",
    "    matches = defaultdict(list)\n",
    "    for search_file in search_files:\n",
    "        search_hashes = fingerprint_file(search_file)\n",
    "        search_hash_dict = {h[0]: h[1] for h in search_hashes}\n",
    "\n",
    "        # Look for hash matches\n",
    "        for h in target_hash_dict:\n",
    "            if h in search_hash_dict:\n",
    "                # Store time offsets for further analysis\n",
    "                matches[search_file].append((search_hash_dict[h], target_hash_dict[h]))\n",
    "\n",
    "    # Return the best match\n",
    "    return best_match(matches)\n",
    "\n",
    "# Example Usage\n",
    "video_path = \"data/video/test/Portugal. The Man - Feel It Still (Official Music Video).mp4\"\n",
    "audio_path = \"extracted_audio.wav\"\n",
    "# search_files = [\"/path/to/file1.wav\", \"/path/to/file2.wav\", \"/path/to/file3.wav\"]\n",
    "search_files = [f\"data/audio/test/{f}\" for f in os.listdir(\"data/audio/test\")]\n",
    "\n",
    "# Step 1: Extract audio from video\n",
    "extract_audio_from_video(video_path, audio_path)\n",
    "\n",
    "# Step 2: Classify audio in chunks and find matches\n",
    "classification_results = classify_and_match_audio_chunks(audio_path, search_files)\n",
    "\n",
    "# Output the classification results with matches\n",
    "print(classification_results)"
   ],
   "id": "b700940eaae037eb",
   "outputs": [
    {
     "name": "stdout",
     "output_type": "stream",
     "text": [
      "MoviePy - Writing audio in extracted_audio.wav\n"
     ]
    },
    {
     "name": "stderr",
     "output_type": "stream",
     "text": [
      "                                                                       \r"
     ]
    },
    {
     "name": "stdout",
     "output_type": "stream",
     "text": [
      "MoviePy - Done.\n",
      "{0: 'non_music', 10: 'match found: data/audio/test/Portugal. The Man - Feel It Still (Official Music Video).wav', 20: 'match found: data/audio/test/Portugal. The Man - Feel It Still (Official Music Video).wav', 30: 'match found: data/audio/test/Portugal. The Man - Feel It Still (Official Music Video).wav', 40: 'match found: data/audio/test/Portugal. The Man - Feel It Still (Official Music Video).wav', 50: 'match found: data/audio/test/Portugal. The Man - Feel It Still (Official Music Video).wav', 60: 'match found: data/audio/test/Portugal. The Man - Feel It Still (Official Music Video).wav', 70: 'match found: data/audio/test/Portugal. The Man - Feel It Still (Official Music Video).wav', 80: 'match found: data/audio/test/Portugal. The Man - Feel It Still (Official Music Video).wav', 90: 'match found: data/audio/test/Portugal. The Man - Feel It Still (Official Music Video).wav', 100: 'match found: data/audio/test/Portugal. The Man - Feel It Still (Official Music Video).wav', 110: 'match found: data/audio/test/Portugal. The Man - Feel It Still (Official Music Video).wav', 120: 'match found: data/audio/test/Portugal. The Man - Feel It Still (Official Music Video).wav', 130: 'match found: data/audio/test/Portugal. The Man - Feel It Still (Official Music Video).wav', 140: 'match found: data/audio/test/Portugal. The Man - Feel It Still (Official Music Video).wav', 150: 'match found: data/audio/test/Portugal. The Man - Feel It Still (Official Music Video).wav', 160: 'match found: data/audio/test/Portugal. The Man - Feel It Still (Official Music Video).wav'}\n"
     ]
    }
   ],
   "execution_count": 8
  }
 ],
 "metadata": {
  "kernelspec": {
   "display_name": "Python 3",
   "language": "python",
   "name": "python3"
  },
  "language_info": {
   "codemirror_mode": {
    "name": "ipython",
    "version": 2
   },
   "file_extension": ".py",
   "mimetype": "text/x-python",
   "name": "python",
   "nbconvert_exporter": "python",
   "pygments_lexer": "ipython2",
   "version": "2.7.6"
  }
 },
 "nbformat": 4,
 "nbformat_minor": 5
}
