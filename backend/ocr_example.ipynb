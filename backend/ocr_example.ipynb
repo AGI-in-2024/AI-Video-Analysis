{
 "cells": [
  {
   "cell_type": "code",
   "execution_count": 1,
   "id": "c0b465df3a87c676",
   "metadata": {
    "ExecuteTime": {
     "end_time": "2024-09-24T18:48:35.971941Z",
     "start_time": "2024-09-24T18:48:35.860622Z"
    }
   },
   "outputs": [
    {
     "name": "stdout",
     "output_type": "stream",
     "text": [
      " data\t     'loss weight.png'\t README.md   venv\r\n",
      " LICENSE.md   notebooks\t\t src\t     weights\r\n"
     ]
    }
   ],
   "source": [
    "import os\n",
    "\n",
    "while os.getcwd().split(os.sep)[-1] != \"secret-repo\":\n",
    "    os.chdir(\"..\")\n",
    "    \n",
    "!ls"
   ]
  },
  {
   "cell_type": "code",
   "execution_count": 4,
   "id": "initial_id",
   "metadata": {
    "ExecuteTime": {
     "end_time": "2024-09-24T18:57:30.007034Z",
     "start_time": "2024-09-24T18:57:09.381681Z"
    },
    "collapsed": true
   },
   "outputs": [
    {
     "name": "stdout",
     "output_type": "stream",
     "text": [
      "Frame 0: постановка\n",
      "Frame 120: (ф)\n",
      "Frame 240: ГДР\n",
      "Frame 360: ГКВАЗ\n",
      "Frame 480: ГДР\n",
      "Frame 600: Р. М.П.\n",
      "Frame 720: применил\n",
      "Frame 840: Юге\n",
      "Frame 960: проект\n",
      "Frame 1080: ..\n",
      "Frame 1200: ИЕНЕ\n",
      "Frame 1320: ИЕРЕД\n",
      "Frame 1440: 1515 год\n",
      "Frame 1560: ЕСЕР\n",
      "Frame 1680: США\n",
      "Frame 1800: \"ТМ\n",
      "Frame 1920: Евгений\n",
      "Frame 2040: Юлиев\n",
      "Frame 2160: ГПназа\n",
      "Frame 2280: после\n",
      "Frame 2400: проект\n",
      "Frame 2520: М.\n",
      "Frame 2640: МВП\n",
      "Frame 2760: проект\n",
      "Frame 2880: полное возможность\n",
      "Frame 3000: УЕФ\n",
      "Frame 3120: Н\n",
      "Frame 3240: ОО\n",
      "Frame 3360: производительным\n",
      "Frame 3480: -\n",
      "Frame 3600: Е\n",
      "Frame 3720: Н\n",
      "Frame 3840: Н\n",
      "Frame 3960: МОН\n",
      "Frame 4080: Д\n",
      "Frame 4200: пост же\n",
      "Frame 4320: Его\n",
      "Frame 4440: Его\n",
      "Frame 4560: Евгений\n",
      "Frame 4680: РФ\n",
      "Frame 4800: У\n",
      "Frame 4920: Евгений\n",
      "Frame 5040: ГОР ДРП\n",
      "Frame 5160: Даниил\n",
      "Frame 5280: АТД\n",
      "Frame 5400: проводительным\n",
      "Frame 5520: 0 0 0\n",
      "Frame 5640: женил\n",
      "Frame 5760: провинция\n",
      "Frame 5880: Т.\n",
      "Frame 6000: ОИ.\n",
      "Frame 6120: полковник\n",
      "Frame 6240: производит\n",
      "Frame 6360: Юлия Юлиевич\n",
      "Frame 6480: ..\n",
      "Frame 6600: 8 -\n",
      "Frame 6720: -\n",
      "Frame 6840: от -\n",
      "Frame 6960: политическим\n",
      "Frame 7080: ММО\n",
      "Frame 7200: МОН\n",
      "Frame 7320: М\n",
      "Frame 7440: В. В. Г.\n",
      "Frame 7560: В. В. В\n",
      "Frame 7680: М. А. В.\n",
      "Frame 7800: применения\n",
      "Frame 7920: Т\n",
      "Frame 8040: И.\n",
      "Frame 8160: Парк\n",
      "Frame 8280: З. Д.\n",
      "Frame 8400: Евгений\n",
      "Frame 8520: МОН\n",
      "Frame 8640: -\n",
      "Frame 8760: - -\n",
      "Frame 8880: прош\n",
      "Frame 9000: от\n",
      "Frame 9120: Яр Юз\n",
      "Frame 9240: Дз 19 ПЗ ФР\n",
      "Frame 9360: половина\n",
      "Frame 9480: строению\n",
      "Time taken: 633.1505844593048 seconds\n"
     ]
    }
   ],
   "source": [
    "import time\n",
    "from src.ocr import ocr_trocr_ru\n",
    "\n",
    "with open('/home/dukhanin/secret-repo/backend/test_set/y2mate.com - Вот почему я НЕ СМОТРЮ НОВОСТИ_480p.mp4', 'rb') as f:\n",
    "    video_binary = f.read()\n",
    "\n",
    "start_time = time.time()\n",
    "recognized_text = ocr_trocr_ru(video_binary, frame_rate=120)\n",
    "end_time = time.time()\n",
    "\n",
    "for frame_num, text in recognized_text.items():\n",
    "        print(f\"Frame {frame_num}: {text}\")\n",
    "print(f\"Time taken: {end_time - start_time} seconds\")"
   ]
  }
 ],
 "metadata": {
  "kernelspec": {
   "display_name": "Python 3",
   "language": "python",
   "name": "python3"
  },
  "language_info": {
   "codemirror_mode": {
    "name": "ipython",
    "version": 3
   },
   "file_extension": ".py",
   "mimetype": "text/x-python",
   "name": "python",
   "nbconvert_exporter": "python",
   "pygments_lexer": "ipython3",
   "version": "3.12.3"
  }
 },
 "nbformat": 4,
 "nbformat_minor": 5
}
